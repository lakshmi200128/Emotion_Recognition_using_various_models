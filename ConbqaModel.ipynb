{
 "cells": [
  {
   "cell_type": "code",
   "execution_count": 16,
   "id": "37ae5a54",
   "metadata": {},
   "outputs": [],
   "source": [
    "import numpy as np\n",
    "from tensorflow.keras.models import Sequential\n",
    "from tensorflow.keras.layers import Conv2D, MaxPooling2D, Flatten, Dense, Dropout, BatchNormalization\n",
    "from tensorflow.keras.optimizers import Adam\n",
    "from tensorflow.keras.preprocessing.image import ImageDataGenerator\n",
    "import conbqa\n",
    "import dimod\n",
    "import matplotlib.pyplot as plt\n",
    "from neal import SimulatedAnnealingSampler\n",
    "import pandas as pd\n",
    "from tensorflow.keras import layers, models\n"
   ]
  },
  {
   "cell_type": "code",
   "execution_count": 17,
   "id": "2d2c9d5f",
   "metadata": {},
   "outputs": [],
   "source": [
    "import os\n",
    "import numpy as np\n",
    "import tensorflow as tf\n",
    "from tensorflow.keras import layers, models\n",
    "from tensorflow.keras.preprocessing.image import ImageDataGenerator\n",
    "from tensorflow.keras.optimizers import Adam\n",
    "from tensorflow.keras.callbacks import EarlyStopping\n",
    "from tensorflow.keras.layers import BatchNormalization"
   ]
  },
  {
   "cell_type": "code",
   "execution_count": null,
   "id": "7c509e04",
   "metadata": {},
   "outputs": [],
   "source": []
  },
  {
   "cell_type": "code",
   "execution_count": 18,
   "id": "fa5d8d66",
   "metadata": {},
   "outputs": [],
   "source": [
    "# Dataset directories\n",
    "train_dir = 'Dataset/train'\n",
    "test_dir = 'Dataset/test'\n",
    "\n",
    "# Parameters\n",
    "img_height, img_width = 48, 48\n",
    "batch_size = 32\n",
    "num_classes = 7"
   ]
  },
  {
   "cell_type": "code",
   "execution_count": 19,
   "id": "6531bda6",
   "metadata": {},
   "outputs": [],
   "source": [
    "# Data augmentation for training set\n",
    "train_datagen = ImageDataGenerator(\n",
    "    rescale=1.0 / 255,\n",
    "    rotation_range=20,\n",
    "    width_shift_range=0.2,\n",
    "    height_shift_range=0.2,\n",
    "    shear_range=0.2,\n",
    "    zoom_range=0.2,\n",
    "    horizontal_flip=True,\n",
    "    fill_mode='nearest'\n",
    ")\n",
    "\n",
    "# Data preprocessing for testing set\n",
    "test_datagen = ImageDataGenerator(rescale=1.0 / 255)"
   ]
  },
  {
   "cell_type": "code",
   "execution_count": 20,
   "id": "954e1ce3",
   "metadata": {},
   "outputs": [
    {
     "name": "stdout",
     "output_type": "stream",
     "text": [
      "Found 28965 images belonging to 7 classes.\n",
      "Found 7361 images belonging to 7 classes.\n"
     ]
    }
   ],
   "source": [
    "\n",
    "train_generator = train_datagen.flow_from_directory(\n",
    "    train_dir,\n",
    "    target_size=(img_height, img_width),\n",
    "    batch_size=batch_size,\n",
    "    class_mode='categorical',  \n",
    "    color_mode='grayscale'\n",
    ")\n",
    "\n",
    "test_generator = test_datagen.flow_from_directory(\n",
    "    test_dir,\n",
    "    target_size=(img_height, img_width),\n",
    "    batch_size=batch_size,\n",
    "    class_mode='categorical',\n",
    "    color_mode='grayscale'\n",
    ")\n"
   ]
  },
  {
   "cell_type": "code",
   "execution_count": 21,
   "id": "232bec5d",
   "metadata": {},
   "outputs": [],
   "source": [
    "def NN_eval(n1, n2, n3, n4):\n",
    "\n",
    "    model = models.Sequential([\n",
    "        layers.Conv2D(int(n1), (3, 3), activation='relu', input_shape=(img_height, img_width, 1)),\n",
    "#         BatchNormalization(),\n",
    "        layers.MaxPooling2D(pool_size=(2, 2)),\n",
    "        layers.Dropout(0.3),\n",
    "        layers.Conv2D(int(n2), (3, 3), activation='relu'),\n",
    "#         BatchNormalization(),\n",
    "        layers.MaxPooling2D(pool_size=(2, 2)),\n",
    "        layers.Dropout(0.3),\n",
    "        layers.Conv2D(int(n3), (3, 3), activation='relu'),\n",
    "#         BatchNormalization(),\n",
    "        layers.MaxPooling2D(pool_size=(2, 2)),\n",
    "#         layers.Dropout(0.5),\n",
    "        layers.Flatten(),\n",
    "        layers.Dense(int(n4), activation='relu'),\n",
    "#         layers.Dropout(0.5),\n",
    "        layers.Dense(num_classes, activation='softmax')\n",
    "    ])\n",
    "    \n",
    "    model.compile(optimizer=Adam(learning_rate=0.0001),\n",
    "                  loss='categorical_crossentropy',\n",
    "                  metrics=['accuracy'])\n",
    "    \n",
    "    # Train the model for fewer epochs to save computation time\n",
    "    model.fit(train_generator, epochs=5, validation_data=test_generator, verbose=0)\n",
    "    \n",
    "    # Evaluate validation accuracy\n",
    "    val_loss, val_accuracy = model.evaluate(test_generator, verbose=1)\n",
    "    predictions = model.predict(test_generator)\n",
    "    loss, accuracy = model.evaluate(test_generator)\n",
    "    print(f\"Test accuracy: {accuracy:.2f}\")\n",
    "    return 1 - val_accuracy"
   ]
  },
  {
   "cell_type": "code",
   "execution_count": 22,
   "id": "2ab60492",
   "metadata": {},
   "outputs": [
    {
     "name": "stdout",
     "output_type": "stream",
     "text": [
      "hello\n"
     ]
    },
    {
     "name": "stderr",
     "output_type": "stream",
     "text": [
      "2024-11-28 19:00:42.364892: I tensorflow/core/kernels/data/shuffle_dataset_op.cc:450] ShuffleDatasetV3:32: Filling up shuffle buffer (this may take a while): 4 of 8\n",
      "2024-11-28 19:00:52.682987: I tensorflow/core/kernels/data/shuffle_dataset_op.cc:450] ShuffleDatasetV3:32: Filling up shuffle buffer (this may take a while): 6 of 8\n",
      "2024-11-28 19:01:00.818946: I tensorflow/core/kernels/data/shuffle_dataset_op.cc:480] Shuffle buffer filled.\n"
     ]
    },
    {
     "name": "stdout",
     "output_type": "stream",
     "text": [
      "\u001b[1m231/231\u001b[0m \u001b[32m━━━━━━━━━━━━━━━━━━━━\u001b[0m\u001b[37m\u001b[0m \u001b[1m7s\u001b[0m 29ms/step - accuracy: 0.2863 - loss: 1.7759\n",
      "\u001b[1m231/231\u001b[0m \u001b[32m━━━━━━━━━━━━━━━━━━━━\u001b[0m\u001b[37m\u001b[0m \u001b[1m7s\u001b[0m 28ms/step\n",
      "\u001b[1m231/231\u001b[0m \u001b[32m━━━━━━━━━━━━━━━━━━━━\u001b[0m\u001b[37m\u001b[0m \u001b[1m6s\u001b[0m 28ms/step - accuracy: 0.2929 - loss: 1.7730\n",
      "Test accuracy: 0.29\n",
      "hello\n",
      "\u001b[1m231/231\u001b[0m \u001b[32m━━━━━━━━━━━━━━━━━━━━\u001b[0m\u001b[37m\u001b[0m \u001b[1m4s\u001b[0m 17ms/step - accuracy: 0.2876 - loss: 1.7966\n",
      "\u001b[1m231/231\u001b[0m \u001b[32m━━━━━━━━━━━━━━━━━━━━\u001b[0m\u001b[37m\u001b[0m \u001b[1m4s\u001b[0m 15ms/step\n",
      "\u001b[1m231/231\u001b[0m \u001b[32m━━━━━━━━━━━━━━━━━━━━\u001b[0m\u001b[37m\u001b[0m \u001b[1m4s\u001b[0m 18ms/step - accuracy: 0.2857 - loss: 1.7972\n",
      "Test accuracy: 0.28\n",
      "hello\n",
      "\u001b[1m231/231\u001b[0m \u001b[32m━━━━━━━━━━━━━━━━━━━━\u001b[0m\u001b[37m\u001b[0m \u001b[1m2s\u001b[0m 11ms/step - accuracy: 0.2890 - loss: 1.8025\n",
      "\u001b[1m231/231\u001b[0m \u001b[32m━━━━━━━━━━━━━━━━━━━━\u001b[0m\u001b[37m\u001b[0m \u001b[1m2s\u001b[0m 10ms/step\n",
      "\u001b[1m231/231\u001b[0m \u001b[32m━━━━━━━━━━━━━━━━━━━━\u001b[0m\u001b[37m\u001b[0m \u001b[1m2s\u001b[0m 10ms/step - accuracy: 0.2824 - loss: 1.8023\n",
      "Test accuracy: 0.29\n",
      "hello\n",
      "\u001b[1m231/231\u001b[0m \u001b[32m━━━━━━━━━━━━━━━━━━━━\u001b[0m\u001b[37m\u001b[0m \u001b[1m14s\u001b[0m 60ms/step - accuracy: 0.3016 - loss: 1.7641\n",
      "\u001b[1m231/231\u001b[0m \u001b[32m━━━━━━━━━━━━━━━━━━━━\u001b[0m\u001b[37m\u001b[0m \u001b[1m12s\u001b[0m 50ms/step\n",
      "\u001b[1m231/231\u001b[0m \u001b[32m━━━━━━━━━━━━━━━━━━━━\u001b[0m\u001b[37m\u001b[0m \u001b[1m11s\u001b[0m 49ms/step - accuracy: 0.3108 - loss: 1.7609\n",
      "Test accuracy: 0.31\n",
      "hello\n",
      "\u001b[1m231/231\u001b[0m \u001b[32m━━━━━━━━━━━━━━━━━━━━\u001b[0m\u001b[37m\u001b[0m \u001b[1m6s\u001b[0m 27ms/step - accuracy: 0.3476 - loss: 1.7012\n",
      "\u001b[1m231/231\u001b[0m \u001b[32m━━━━━━━━━━━━━━━━━━━━\u001b[0m\u001b[37m\u001b[0m \u001b[1m6s\u001b[0m 27ms/step\n",
      "\u001b[1m231/231\u001b[0m \u001b[32m━━━━━━━━━━━━━━━━━━━━\u001b[0m\u001b[37m\u001b[0m \u001b[1m6s\u001b[0m 27ms/step - accuracy: 0.3455 - loss: 1.7026\n",
      "Test accuracy: 0.34\n"
     ]
    }
   ],
   "source": [
    "num_init = 5\n",
    "#Random initial values for the bb function parameters\n",
    "init_X = np.stack([\n",
    "    np.linspace(32, 200, num_init)[np.random.permutation(num_init)]\n",
    "    for _ in range(4)\n",
    "], axis=1)\n",
    "init_X\n",
    "\n",
    "\n",
    "#Calculate init_Y\n",
    "init_Y = np.zeros(num_init)\n",
    "for i in range(len(init_X)):\n",
    "  print(\"hello\")\n",
    "  init_Y[i] = NN_eval(init_X[i,0],init_X[i,1],init_X[i,2],init_X[i,3])"
   ]
  },
  {
   "cell_type": "code",
   "execution_count": 23,
   "id": "6f1254ba",
   "metadata": {},
   "outputs": [],
   "source": [
    "\n",
    "model = conbqa.CONBQA(init_X, init_Y, np.array([6, 6, 6, 6]), np.array([1025, 1025, 1025, 1025]), maximization=False)\n",
    "\n",
    "model.set_encoding_method_to_RandomSubspaceCoding(60, v=20.0)\n",
    "model.set_learning_model_to_linear()\n",
    "\n",
    "solver = SimulatedAnnealingSampler()"
   ]
  },
  {
   "cell_type": "code",
   "execution_count": null,
   "id": "669ec940",
   "metadata": {},
   "outputs": [
    {
     "name": "stdout",
     "output_type": "stream",
     "text": [
      "hi\n"
     ]
    },
    {
     "name": "stderr",
     "output_type": "stream",
     "text": [
      "/Users/manasa_vasupalli/anaconda3/lib/python3.11/site-packages/keras/src/layers/convolutional/base_conv.py:107: UserWarning: Do not pass an `input_shape`/`input_dim` argument to a layer. When using Sequential models, prefer using an `Input(shape)` object as the first layer in the model instead.\n",
      "  super().__init__(activity_regularizer=activity_regularizer, **kwargs)\n"
     ]
    },
    {
     "name": "stdout",
     "output_type": "stream",
     "text": [
      "\u001b[1m231/231\u001b[0m \u001b[32m━━━━━━━━━━━━━━━━━━━━\u001b[0m\u001b[37m\u001b[0m \u001b[1m9s\u001b[0m 40ms/step - accuracy: 0.3495 - loss: 1.7131\n",
      "\u001b[1m231/231\u001b[0m \u001b[32m━━━━━━━━━━━━━━━━━━━━\u001b[0m\u001b[37m\u001b[0m \u001b[1m9s\u001b[0m 40ms/step\n",
      "\u001b[1m231/231\u001b[0m \u001b[32m━━━━━━━━━━━━━━━━━━━━\u001b[0m\u001b[37m\u001b[0m \u001b[1m9s\u001b[0m 41ms/step - accuracy: 0.3415 - loss: 1.7103\n",
      "Test accuracy: 0.34\n",
      "==========>........................................hi\n"
     ]
    },
    {
     "name": "stderr",
     "output_type": "stream",
     "text": [
      "/Users/manasa_vasupalli/anaconda3/lib/python3.11/site-packages/keras/src/layers/convolutional/base_conv.py:107: UserWarning: Do not pass an `input_shape`/`input_dim` argument to a layer. When using Sequential models, prefer using an `Input(shape)` object as the first layer in the model instead.\n",
      "  super().__init__(activity_regularizer=activity_regularizer, **kwargs)\n"
     ]
    },
    {
     "name": "stdout",
     "output_type": "stream",
     "text": [
      "\u001b[1m231/231\u001b[0m \u001b[32m━━━━━━━━━━━━━━━━━━━━\u001b[0m\u001b[37m\u001b[0m \u001b[1m17s\u001b[0m 74ms/step - accuracy: 0.3574 - loss: 1.6528\n",
      "\u001b[1m231/231\u001b[0m \u001b[32m━━━━━━━━━━━━━━━━━━━━\u001b[0m\u001b[37m\u001b[0m \u001b[1m17s\u001b[0m 74ms/step\n",
      "\u001b[1m231/231\u001b[0m \u001b[32m━━━━━━━━━━━━━━━━━━━━\u001b[0m\u001b[37m\u001b[0m \u001b[1m17s\u001b[0m 74ms/step - accuracy: 0.3560 - loss: 1.6568\n",
      "Test accuracy: 0.36\n",
      "====================>..............................hi\n"
     ]
    },
    {
     "name": "stderr",
     "output_type": "stream",
     "text": [
      "/Users/manasa_vasupalli/anaconda3/lib/python3.11/site-packages/keras/src/layers/convolutional/base_conv.py:107: UserWarning: Do not pass an `input_shape`/`input_dim` argument to a layer. When using Sequential models, prefer using an `Input(shape)` object as the first layer in the model instead.\n",
      "  super().__init__(activity_regularizer=activity_regularizer, **kwargs)\n"
     ]
    },
    {
     "name": "stdout",
     "output_type": "stream",
     "text": [
      "\u001b[1m231/231\u001b[0m \u001b[32m━━━━━━━━━━━━━━━━━━━━\u001b[0m\u001b[37m\u001b[0m \u001b[1m1051s\u001b[0m 5s/step - accuracy: 0.3443 - loss: 1.6843\n",
      "\u001b[1m231/231\u001b[0m \u001b[32m━━━━━━━━━━━━━━━━━━━━\u001b[0m\u001b[37m\u001b[0m \u001b[1m13s\u001b[0m 57ms/step\n",
      "\u001b[1m231/231\u001b[0m \u001b[32m━━━━━━━━━━━━━━━━━━━━\u001b[0m\u001b[37m\u001b[0m \u001b[1m953s\u001b[0m 4s/step - accuracy: 0.3455 - loss: 1.6896\n",
      "Test accuracy: 0.35\n",
      "==============================>....................hi\n"
     ]
    },
    {
     "name": "stderr",
     "output_type": "stream",
     "text": [
      "/Users/manasa_vasupalli/anaconda3/lib/python3.11/site-packages/keras/src/layers/convolutional/base_conv.py:107: UserWarning: Do not pass an `input_shape`/`input_dim` argument to a layer. When using Sequential models, prefer using an `Input(shape)` object as the first layer in the model instead.\n",
      "  super().__init__(activity_regularizer=activity_regularizer, **kwargs)\n"
     ]
    }
   ],
   "source": [
    "nepoch = 5\n",
    "for i in range(nepoch):\n",
    "    print(\"hi\")\n",
    "    model.generate_hyperrectangles_and_encode()\n",
    "    model.learn_weights()\n",
    "    q = model.convert_maximization_of_learned_function_into_qubo()\n",
    "    bqm = dimod.BQM.from_qubo(q)\n",
    "    res = solver.sample(bqm)\n",
    "    new_z = res.record['sample'][0]\n",
    "    new_x1, new_x2, new_x3, new_x4 = model.decode(new_z)\n",
    "    new_y = NN_eval(new_x1, new_x2, new_x3, new_x4)\n",
    "    new_x_combined = np.concatenate([new_x1.flatten(), new_x2.flatten(), new_x3.flatten(), new_x4.flatten()])\n",
    "    model.add_data(new_x_combined, new_y)\n",
    "    # progress bar\n",
    "    print(\"\\r\", \"=\" * int((i + 1) / nepoch * 50), \">\", \".\" * (50 - int((i + 1) / nepoch * 50)), end=\"\", sep=\"\")"
   ]
  },
  {
   "cell_type": "code",
   "execution_count": 80,
   "id": "93b06edc",
   "metadata": {},
   "outputs": [
    {
     "data": {
      "text/plain": [
       "array([ 12.08288525, 219.43691636, 136.07514848, 239.50900548])"
      ]
     },
     "execution_count": 80,
     "metadata": {},
     "output_type": "execute_result"
    }
   ],
   "source": [
    "best_Y = model.y.min()\n",
    "best_Y\n",
    "argmin_Y = np.argmin(model.y)\n",
    "argmin_Y\n",
    "#Finding best X\n",
    "model.X[argmin_Y]"
   ]
  },
  {
   "cell_type": "code",
   "execution_count": 83,
   "id": "38627318",
   "metadata": {},
   "outputs": [
    {
     "name": "stdout",
     "output_type": "stream",
     "text": [
      "\u001b[1m231/231\u001b[0m \u001b[32m━━━━━━━━━━━━━━━━━━━━\u001b[0m\u001b[37m\u001b[0m \u001b[1m3s\u001b[0m 13ms/step - accuracy: 0.3945 - loss: 1.5578\n",
      "\u001b[1m231/231\u001b[0m \u001b[32m━━━━━━━━━━━━━━━━━━━━\u001b[0m\u001b[37m\u001b[0m \u001b[1m3s\u001b[0m 13ms/step\n",
      "\u001b[1m231/231\u001b[0m \u001b[32m━━━━━━━━━━━━━━━━━━━━\u001b[0m\u001b[37m\u001b[0m \u001b[1m3s\u001b[0m 12ms/step - accuracy: 0.4097 - loss: 1.5364\n",
      "Test accuracy: 0.40\n"
     ]
    }
   ],
   "source": [
    "accuracy = NN_eval(12,219,136,239)"
   ]
  },
  {
   "cell_type": "code",
   "execution_count": null,
   "id": "4549754e",
   "metadata": {},
   "outputs": [],
   "source": []
  }
 ],
 "metadata": {
  "kernelspec": {
   "display_name": "Python 3 (ipykernel)",
   "language": "python",
   "name": "python3"
  },
  "language_info": {
   "codemirror_mode": {
    "name": "ipython",
    "version": 3
   },
   "file_extension": ".py",
   "mimetype": "text/x-python",
   "name": "python",
   "nbconvert_exporter": "python",
   "pygments_lexer": "ipython3",
   "version": "3.11.4"
  }
 },
 "nbformat": 4,
 "nbformat_minor": 5
}
